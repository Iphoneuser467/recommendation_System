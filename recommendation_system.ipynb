{
 "cells": [
  {
   "cell_type": "code",
   "execution_count": null,
   "id": "aac109f9",
   "metadata": {},
   "outputs": [],
   "source": [
    "# Import libraries\n",
    "from surprise import Dataset, Reader, SVD\n",
    "from surprise.model_selection import train_test_split\n",
    "from surprise import accuracy\n",
    "import pandas as pd\n",
    "\n",
    "# Load MovieLens 100K dataset\n",
    "data = Dataset.load_builtin('ml-100k')\n",
    "reader = Reader(rating_scale=(1, 5))\n",
    "\n",
    "# Split into train and test sets\n",
    "trainset, testset = train_test_split(data, test_size=0.25, random_state=42)\n",
    "\n",
    "# Train SVD model (matrix factorization)\n",
    "svd_model = SVD(n_factors=100, random_state=42)\n",
    "svd_model.fit(trainset)\n",
    "\n",
    "# Make predictions on test set\n",
    "predictions = svd_model.test(testset)\n",
    "\n",
    "# Evaluate model\n",
    "rmse = accuracy.rmse(predictions)\n",
    "print(f\"RMSE: {rmse:.2f}\")\n",
    "\n",
    "# Example: Recommend movies for a user (e.g., user ID 196)\n",
    "user_id = '196'\n",
    "items = trainset.all_items()\n",
    "items = [trainset.to_raw_iid(i) for i in items]\n",
    "user_ratings = [(item, svd_model.predict(user_id, item).est) for item in items]\n",
    "user_ratings.sort(key=lambda x: x[1], reverse=True)\n",
    "\n",
    "# Display top 5 recommendations\n",
    "print(f\"\\nTop 5 Recommendations for User {user_id}:\")\n",
    "for movie_id, rating in user_ratings[:5]:\n",
    "    print(f\"Movie ID: {movie_id}, Predicted Rating: {rating:.2f}\")"
   ]
  }
 ],
 "metadata": {
  "language_info": {
   "name": "python"
  }
 },
 "nbformat": 4,
 "nbformat_minor": 5
}
